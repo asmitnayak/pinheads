{
 "cells": [
  {
   "cell_type": "code",
   "execution_count": 33,
   "metadata": {
    "collapsed": true
   },
   "outputs": [],
   "source": [
    "import cv2\n",
    "import time\n",
    "import datetime\n",
    "import imutils\n",
    "import gym\n",
    "import random\n",
    "import matplotlib.pyplot as plt\n",
    "from tqdm import tqdm\n",
    "from PIL import Image\n"
   ]
  },
  {
   "cell_type": "code",
   "execution_count": 34,
   "outputs": [
    {
     "name": "stdout",
     "output_type": "stream",
     "text": [
      "9\n"
     ]
    }
   ],
   "source": [
    "env = gym.make('VideoPinball-v0', difficulty=1)\n",
    "height, width, channels = env.observation_space.shape\n",
    "actions = env.action_space.n\n",
    "print(actions)"
   ],
   "metadata": {
    "collapsed": false,
    "pycharm": {
     "name": "#%%\n"
    }
   }
  },
  {
   "cell_type": "code",
   "execution_count": 35,
   "outputs": [
    {
     "data": {
      "text/plain": "array([[0, 0, 0, ..., 0, 0, 0],\n       [0, 0, 0, ..., 0, 0, 0],\n       [0, 0, 0, ..., 0, 0, 0],\n       ...,\n       [0, 0, 0, ..., 0, 0, 0],\n       [0, 0, 0, ..., 0, 0, 0],\n       [0, 0, 0, ..., 0, 0, 0]], dtype=uint8)"
     },
     "execution_count": 35,
     "metadata": {},
     "output_type": "execute_result"
    }
   ],
   "source": [
    "env.unwrapped.get_action_meanings()\n",
    "\n",
    "env.reset()\n",
    "\n",
    "img = env.render(mode='rgb_array')\n",
    "# rgb = Image.fromarray(img)\n",
    "cv2.cvtColor(img, cv2.COLOR_BGR2GRAY)"
   ],
   "metadata": {
    "collapsed": false,
    "pycharm": {
     "name": "#%%\n"
    }
   }
  },
  {
   "cell_type": "code",
   "execution_count": 59,
   "outputs": [
    {
     "name": "stderr",
     "output_type": "stream",
     "text": [
      "100%|██████████| 1000/1000 [00:03<00:00, 266.53it/s]"
     ]
    },
    {
     "name": "stdout",
     "output_type": "stream",
     "text": [
      "64\n",
      "96\n",
      "174\n",
      "196\n"
     ]
    },
    {
     "name": "stderr",
     "output_type": "stream",
     "text": [
      "\n"
     ]
    }
   ],
   "source": [
    "first_frame = None\n",
    "env.reset()\n",
    "score = 0\n",
    "rendered = None\n",
    "xs = []\n",
    "ys = []\n",
    "\n",
    "for i in tqdm(range(1000)):\n",
    "    frame = env.render(mode='rgb_array')\n",
    "    # plt.imshow(frame)\n",
    "    # plt.show()\n",
    "    action = random.choice([3,4])\n",
    "    n_state, reward, done, info = env.step(action)\n",
    "    greyscale_frame = cv2.cvtColor(frame, cv2.COLOR_BGR2GRAY)\n",
    "    gaussian_frame = cv2.GaussianBlur(greyscale_frame, (21,21),0)\n",
    "    blur_frame = cv2.blur(gaussian_frame, (5,5))\n",
    "    greyscale_image = blur_frame\n",
    "    # plt.imshow(frame)\n",
    "    # plt.show()\n",
    "    # plt.imshow(greyscale_frame)\n",
    "    # plt.show()\n",
    "    # plt.imshow(gaussian_frame)\n",
    "    # plt.show()\n",
    "    # plt.imshow(blur_frame)\n",
    "    # plt.show()\n",
    "    if first_frame is None:\n",
    "        first_frame = greyscale_image\n",
    "    else:\n",
    "        pass\n",
    "    frame_delta = cv2.absdiff(first_frame, greyscale_image)\n",
    "    # plt.imshow(frame_delta)\n",
    "    # plt.show()\n",
    "\n",
    "    thresh = cv2.threshold(frame_delta, 30, 255, cv2.THRESH_BINARY)[1]\n",
    "    # plt.imshow(thresh)\n",
    "    # plt.show()\n",
    "    dilate_image = cv2.dilate(thresh, None, iterations=2)\n",
    "    # plt.imshow(dilate_image)\n",
    "    # plt.show()\n",
    "    cnts = cv2.findContours(dilate_image.copy(), cv2.RETR_EXTERNAL, cv2.CHAIN_APPROX_SIMPLE)[0]\n",
    "    if cnts is not None:\n",
    "        # print(cnts)\n",
    "        for c in cnts:\n",
    "            # print(c)\n",
    "            if cv2.contourArea(c) > 10:\n",
    "                (x, y, w, h) = cv2.boundingRect(c)\n",
    "                xs.append(x)\n",
    "                xs.append(x+w)\n",
    "                ys.append(y)\n",
    "                ys.append(y+h)\n",
    "            else:\n",
    "                pass\n",
    "\n",
    "env.close()\n",
    "print(min(xs))\n",
    "print(max(xs))\n",
    "print(min(ys))\n",
    "print(max(ys))"
   ],
   "metadata": {
    "collapsed": false,
    "pycharm": {
     "name": "#%%\n"
    }
   }
  },
  {
   "cell_type": "code",
   "execution_count": 37,
   "outputs": [],
   "source": [],
   "metadata": {
    "collapsed": false,
    "pycharm": {
     "name": "#%%\n"
    }
   }
  }
 ],
 "metadata": {
  "kernelspec": {
   "display_name": "Python 3",
   "language": "python",
   "name": "python3"
  },
  "language_info": {
   "codemirror_mode": {
    "name": "ipython",
    "version": 2
   },
   "file_extension": ".py",
   "mimetype": "text/x-python",
   "name": "python",
   "nbconvert_exporter": "python",
   "pygments_lexer": "ipython2",
   "version": "2.7.6"
  }
 },
 "nbformat": 4,
 "nbformat_minor": 0
}